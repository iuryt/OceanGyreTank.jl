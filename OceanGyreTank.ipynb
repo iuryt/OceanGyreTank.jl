{
  "nbformat": 4,
  "nbformat_minor": 0,
  "metadata": {
    "colab": {
      "name": "OceanGyreTank.ipynb",
      "provenance": [],
      "collapsed_sections": [],
      "include_colab_link": true
    },
    "kernelspec": {
      "display_name": "Julia",
      "language": "julia",
      "name": "julia"
    },
    "language_info": {
      "file_extension": ".jl",
      "mimetype": "application/julia",
      "name": "julia"
    },
    "accelerator": "GPU"
  },
  "cells": [
    {
      "cell_type": "markdown",
      "metadata": {
        "id": "view-in-github",
        "colab_type": "text"
      },
      "source": [
        "<a href=\"https://colab.research.google.com/github/iuryt/OceanGyreTank.jl/blob/main/OceanGyreTank.ipynb\" target=\"_parent\"><img src=\"https://colab.research.google.com/assets/colab-badge.svg\" alt=\"Open In Colab\"/></a>"
      ]
    },
    {
      "cell_type": "markdown",
      "metadata": {
        "id": "tQ1r1bbb0yBv"
      },
      "source": [
        "# <img src=\"https://github.com/JuliaLang/julia-logo-graphics/raw/master/images/julia-logo-color.png\" height=\"100\" /> _Colab Notebook Template_\n",
        "\n",
        "## Instructions\n",
        "1. Work on a copy of this notebook: _File_ > _Save a copy in Drive_ (you will need a Google account). Alternatively, you can download the notebook using _File_ > _Download .ipynb_, then upload it to [Colab](https://colab.research.google.com/).\n",
        "2. If you need a GPU: _Runtime_ > _Change runtime type_ > _Harware accelerator_ = _GPU_.\n",
        "3. Execute the following cell (click on it and press Ctrl+Enter) to install Julia, IJulia and other packages (if needed, update `JULIA_VERSION` and the other parameters). This takes a couple of minutes.\n",
        "4. Reload this page (press Ctrl+R, or ⌘+R, or the F5 key) and continue to the next section.\n",
        "\n",
        "_Notes_:\n",
        "* If your Colab Runtime gets reset (e.g., due to inactivity), repeat steps 2, 3 and 4.\n",
        "* After installation, if you want to change the Julia version or activate/deactivate the GPU, you will need to reset the Runtime: _Runtime_ > _Factory reset runtime_ and repeat steps 3 and 4."
      ]
    },
    {
      "cell_type": "code",
      "metadata": {
        "id": "GIeFXS0F0zww",
        "colab": {
          "base_uri": "https://localhost:8080/"
        },
        "outputId": "586043b4-4aa2-4ae0-d3d9-e034620cedcb"
      },
      "source": [
        "%%shell\n",
        "set -e\n",
        "\n",
        "#---------------------------------------------------#\n",
        "JULIA_VERSION=\"1.6.5\" # any version ≥ 0.7.0\n",
        "JULIA_PACKAGES=\"IJulia BenchmarkTools Plots Oceananigans\"\n",
        "JULIA_PACKAGES_IF_GPU=\"CUDA\" # or CuArrays for older Julia versions\n",
        "JULIA_NUM_THREADS=2\n",
        "#---------------------------------------------------#\n",
        "\n",
        "if [ -n \"$COLAB_GPU\" ] && [ -z `which julia` ]; then\n",
        "  # Install Julia\n",
        "  JULIA_VER=`cut -d '.' -f -2 <<< \"$JULIA_VERSION\"`\n",
        "  echo \"Installing Julia $JULIA_VERSION on the current Colab Runtime...\"\n",
        "  BASE_URL=\"https://julialang-s3.julialang.org/bin/linux/x64\"\n",
        "  URL=\"$BASE_URL/$JULIA_VER/julia-$JULIA_VERSION-linux-x86_64.tar.gz\"\n",
        "  wget -nv $URL -O /tmp/julia.tar.gz # -nv means \"not verbose\"\n",
        "  tar -x -f /tmp/julia.tar.gz -C /usr/local --strip-components 1\n",
        "  rm /tmp/julia.tar.gz\n",
        "\n",
        "  # Install Packages\n",
        "  if [ \"$COLAB_GPU\" = \"1\" ]; then\n",
        "      JULIA_PACKAGES=\"$JULIA_PACKAGES $JULIA_PACKAGES_IF_GPU\"\n",
        "  fi\n",
        "  for PKG in `echo $JULIA_PACKAGES`; do\n",
        "    echo \"Installing Julia package $PKG...\"\n",
        "    julia -e 'using Pkg; pkg\"add '$PKG'; precompile;\"' &> /dev/null\n",
        "  done\n",
        "\n",
        "  # Install kernel and rename it to \"julia\"\n",
        "  echo \"Installing IJulia kernel...\"\n",
        "  julia -e 'using IJulia; IJulia.installkernel(\"julia\", env=Dict(\n",
        "      \"JULIA_NUM_THREADS\"=>\"'\"$JULIA_NUM_THREADS\"'\"))'\n",
        "  KERNEL_DIR=`julia -e \"using IJulia; print(IJulia.kerneldir())\"`\n",
        "  KERNEL_NAME=`ls -d \"$KERNEL_DIR\"/julia*`\n",
        "  mv -f $KERNEL_NAME \"$KERNEL_DIR\"/julia  \n",
        "\n",
        "  echo ''\n",
        "  echo \"Successfully installed `julia -v`!\"\n",
        "  echo \"Please reload this page (press Ctrl+R, ⌘+R, or the F5 key) then\"\n",
        "  echo \"jump to the 'Checking the Installation' section.\"\n",
        "fi"
      ],
      "execution_count": null,
      "outputs": [
        {
          "output_type": "stream",
          "name": "stdout",
          "text": [
            "Installing Julia 1.6.5 on the current Colab Runtime...\n",
            "2022-03-19 18:48:27 URL:https://storage.googleapis.com/julialang2/bin/linux/x64/1.6/julia-1.6.5-linux-x86_64.tar.gz [113278959/113278959] -> \"/tmp/julia.tar.gz\" [1]\n",
            "Installing Julia package IJulia...\n",
            "Installing Julia package BenchmarkTools...\n",
            "Installing Julia package Plots...\n",
            "Installing Julia package Oceananigans...\n",
            "Installing Julia package CUDA...\n"
          ]
        }
      ]
    },
    {
      "cell_type": "markdown",
      "metadata": {
        "id": "-OS3Ac017T1i"
      },
      "source": [
        "# Checking the Installation\n",
        "The `versioninfo()` function should print your Julia version and some other info about the system:"
      ]
    },
    {
      "cell_type": "code",
      "metadata": {
        "id": "EEzvvzCl1i0F",
        "colab": {
          "base_uri": "https://localhost:8080/"
        },
        "outputId": "0c2aff6b-9d77-413f-919b-b7fb42018201"
      },
      "source": [
        "versioninfo()"
      ],
      "execution_count": 1,
      "outputs": [
        {
          "output_type": "stream",
          "name": "stdout",
          "text": [
            "Julia Version 1.6.5\n",
            "Commit 9058264a69 (2021-12-19 12:30 UTC)\n",
            "Platform Info:\n",
            "  OS: Linux (x86_64-pc-linux-gnu)\n",
            "  CPU: Intel(R) Xeon(R) CPU @ 2.30GHz\n",
            "  WORD_SIZE: 64\n",
            "  LIBM: libopenlibm\n",
            "  LLVM: libLLVM-11.0.1 (ORCJIT, haswell)\n",
            "Environment:\n",
            "  JULIA_NUM_THREADS = 2\n"
          ]
        }
      ]
    },
    {
      "cell_type": "code",
      "source": [
        "using BenchmarkTools\n",
        "\n",
        "M = rand(2^11, 2^11)\n",
        "\n",
        "@btime $M * $M;"
      ],
      "metadata": {
        "colab": {
          "base_uri": "https://localhost:8080/"
        },
        "id": "YjM_qq54lCcs",
        "outputId": "97e49529-8a81-435b-d27d-01d41cf42cbd"
      },
      "execution_count": 2,
      "outputs": [
        {
          "output_type": "stream",
          "name": "stdout",
          "text": [
            "  481.667 ms (2 allocations: 32.00 MiB)\n"
          ]
        }
      ]
    },
    {
      "cell_type": "code",
      "metadata": {
        "id": "XciCcMAJOT3_",
        "colab": {
          "base_uri": "https://localhost:8080/"
        },
        "outputId": "05b0b752-54af-4b01-eb91-83e19f79c7e8"
      },
      "source": [
        "if ENV[\"COLAB_GPU\"] == \"1\"\n",
        "    using CUDA\n",
        "\n",
        "    run(`nvidia-smi`)\n",
        "\n",
        "    # Create a new random matrix directly on the GPU:\n",
        "    M_on_gpu = CUDA.CURAND.rand(2^11, 2^11)\n",
        "    @btime $M_on_gpu * $M_on_gpu; nothing\n",
        "else\n",
        "    println(\"No GPU found.\")\n",
        "end"
      ],
      "execution_count": 4,
      "outputs": [
        {
          "output_type": "stream",
          "name": "stdout",
          "text": [
            "Sat Mar 19 18:57:20 2022       \n",
            "+-----------------------------------------------------------------------------+\n",
            "| NVIDIA-SMI 460.32.03    Driver Version: 460.32.03    CUDA Version: 11.2     |\n",
            "|-------------------------------+----------------------+----------------------+\n",
            "| GPU  Name        Persistence-M| Bus-Id        Disp.A | Volatile Uncorr. ECC |\n",
            "| Fan  Temp  Perf  Pwr:Usage/Cap|         Memory-Usage | GPU-Util  Compute M. |\n",
            "|                               |                      |               MIG M. |\n",
            "|===============================+======================+======================|\n",
            "|   0  Tesla K80           Off  | 00000000:00:04.0 Off |                    0 |\n",
            "| N/A   34C    P8    26W / 149W |      0MiB / 11441MiB |      0%      Default |\n",
            "|                               |                      |                  N/A |\n",
            "+-------------------------------+----------------------+----------------------+\n",
            "                                                                               \n",
            "+-----------------------------------------------------------------------------+\n",
            "| Processes:                                                                  |\n",
            "|  GPU   GI   CI        PID   Type   Process name                  GPU Memory |\n",
            "|        ID   ID                                                   Usage      |\n",
            "|=============================================================================|\n",
            "|  No running processes found                                                 |\n",
            "+-----------------------------------------------------------------------------+\n",
            "  476.212 ms (2 allocations: 32.00 MiB)\n"
          ]
        }
      ]
    },
    {
      "cell_type": "markdown",
      "metadata": {
        "id": "8RC1QNNqk6h1"
      },
      "source": [
        "# Now let's setup our numerical simulation"
      ]
    },
    {
      "cell_type": "code",
      "source": [
        "using Plots\n",
        "using Oceananigans\n",
        "using Oceananigans.Units"
      ],
      "metadata": {
        "id": "I-ycHkcGheMy",
        "colab": {
          "base_uri": "https://localhost:8080/"
        },
        "outputId": "06eae018-06d6-498d-858c-256c4b296424"
      },
      "execution_count": 5,
      "outputs": [
        {
          "output_type": "stream",
          "name": "stderr",
          "text": [
            "┌ Info: Oceananigans will use 2 threads\n",
            "└ @ Oceananigans /root/.julia/packages/Oceananigans/JIHfS/src/Oceananigans.jl:243\n",
            "\u001b[32m\u001b[1m Downloading\u001b[22m\u001b[39m artifact: CUDA\n"
          ]
        }
      ]
    },
    {
      "cell_type": "code",
      "source": [
        "const cᴰ = 2.5e-3     # dimensionless drag coefficient\n",
        "const ρₐ = 1.225      # kg m⁻³, average density of air at sea-level\n",
        "const ρₒ = 1026       # kg m⁻³, average density at the surface of the ocean\n",
        "const L = 0.23meters\n",
        "const H = 0.15meters\n",
        "const Ny = 100\n",
        "const Nx = 100\n",
        "const Nz = 20"
      ],
      "metadata": {
        "id": "D1KgaUpzhd3F",
        "colab": {
          "base_uri": "https://localhost:8080/"
        },
        "outputId": "16afaa25-4cd9-460a-e8a1-7123e6d67c8b"
      },
      "execution_count": 6,
      "outputs": [
        {
          "output_type": "execute_result",
          "data": {
            "text/plain": [
              "20"
            ]
          },
          "metadata": {},
          "execution_count": 6
        }
      ]
    },
    {
      "cell_type": "code",
      "source": [
        "grid = RectilinearGrid(GPU(),\n",
        "    size=(Nx, Ny, Nz),\n",
        "    x=(-L, L),\n",
        "    y=(-L, L),\n",
        "    z=(-H,0),\n",
        "    topology=(Bounded, Bounded, Bounded)\n",
        ")"
      ],
      "metadata": {
        "id": "4doIJi1FhdlI",
        "colab": {
          "base_uri": "https://localhost:8080/"
        },
        "outputId": "d24ec072-1c0d-46a9-fc60-03a3fa66c6c3"
      },
      "execution_count": 7,
      "outputs": [
        {
          "output_type": "execute_result",
          "data": {
            "text/plain": [
              "100×100×20 RectilinearGrid{Float64, Bounded, Bounded, Bounded} on GPU with 1×1×1 halo\n",
              "├── Bounded  x ∈ [-0.23, 0.23]         regularly spaced with Δx=0.0046\n",
              "├── Bounded  y ∈ [-0.23, 0.23]         regularly spaced with Δy=0.0046\n",
              "└── Bounded  z ∈ [-0.15, -2.01859e-17] regularly spaced with Δz=0.0075"
            ]
          },
          "metadata": {},
          "execution_count": 7
        }
      ]
    },
    {
      "cell_type": "code",
      "source": [
        "@inline radius(x,y) = sqrt(x^2 + y^2)\n",
        "@inline U(x,y,L)    = sin(π*radius(x,y)/L)*exp(1im*angle(x+y*1im))\n",
        "@inline Qᵘ(x,y,z,t) = ifelse(radius(x,y)<L,  imag(ρₐ / ρₒ * cᴰ * U(x,y,L)*abs(U(x,y,L))), 0) # m² s⁻²\n",
        "@inline Qᵛ(x,y,z,t) = ifelse(radius(x,y)<L, -real(ρₐ / ρₒ * cᴰ * U(x,y,L)*abs(U(x,y,L))), 0) # m² s⁻²\n",
        "\n",
        "u_bcs = FieldBoundaryConditions(top = FluxBoundaryCondition(Qᵘ))\n",
        "v_bcs = FieldBoundaryConditions(top = FluxBoundaryCondition(Qᵛ))"
      ],
      "metadata": {
        "id": "UyxlfQgLhcmN",
        "colab": {
          "base_uri": "https://localhost:8080/"
        },
        "outputId": "e856e8d6-1457-4e45-c55a-49c82da4ba59"
      },
      "execution_count": 9,
      "outputs": [
        {
          "output_type": "execute_result",
          "data": {
            "text/plain": [
              "Oceananigans.FieldBoundaryConditions, with boundary conditions\n",
              "├── west: DefaultBoundaryCondition\n",
              "├── east: DefaultBoundaryCondition\n",
              "├── south: DefaultBoundaryCondition\n",
              "├── north: DefaultBoundaryCondition\n",
              "├── bottom: DefaultBoundaryCondition\n",
              "├── top: FluxBoundaryCondition: ContinuousBoundaryFunction Qᵛ at (Nothing, Nothing, Nothing)\n",
              "└── immersed: FluxBoundaryCondition: Nothing"
            ]
          },
          "metadata": {},
          "execution_count": 9
        }
      ]
    },
    {
      "cell_type": "code",
      "source": [
        "coriolis = BetaPlane(f₀=2.0944,β=1.6)"
      ],
      "metadata": {
        "id": "1z6aB3ubhm5M",
        "colab": {
          "base_uri": "https://localhost:8080/"
        },
        "outputId": "242ac7bb-71b9-438f-85e6-d31ba5fec77d"
      },
      "execution_count": 10,
      "outputs": [
        {
          "output_type": "execute_result",
          "data": {
            "text/plain": [
              "BetaPlane{Float64}(f₀=2.0944, β=1.6)"
            ]
          },
          "metadata": {},
          "execution_count": 10
        }
      ]
    },
    {
      "cell_type": "code",
      "source": [
        "model = NonhydrostaticModel(grid = grid,\n",
        "                            tracers = (:T, :S),\n",
        "                            coriolis = coriolis,\n",
        "                            buoyancy = SeawaterBuoyancy(),\n",
        "                            closure = ScalarDiffusivity(ν=1e-6,κ=1e-6),\n",
        "                            boundary_conditions = (u=u_bcs,v=v_bcs))\n",
        "\n",
        "set!(model,T=25,S=0)"
      ],
      "metadata": {
        "id": "izo38wedhn7V"
      },
      "execution_count": 11,
      "outputs": []
    },
    {
      "cell_type": "code",
      "source": [
        "simulation = Simulation(model, Δt = 0.1second, stop_time = 10seconds)\n",
        "\n",
        "simulation.output_writers[:velocities] =\n",
        "    JLD2OutputWriter(model, model.velocities, prefix = \"velocities\",\n",
        "                     schedule=TimeInterval(0.1second), force = true)\n",
        "\n",
        "run!(simulation)"
      ],
      "metadata": {
        "id": "kTvOEagAhrZ_",
        "colab": {
          "base_uri": "https://localhost:8080/",
          "height": 1000
        },
        "outputId": "8bfcbccd-6cc7-41f7-bf34-a58c1450744c"
      },
      "execution_count": 12,
      "outputs": [
        {
          "output_type": "stream",
          "name": "stderr",
          "text": [
            "┌ Warning: Cannot serialize timeseries/u/serialized/boundary_conditions as it contains functions. Will replace with missing. Function boundary conditions must be restored manually.\n",
            "└ @ Oceananigans.OutputWriters /root/.julia/packages/Oceananigans/JIHfS/src/OutputWriters/output_writer_utils.jl:70\n",
            "┌ Warning: Cannot serialize timeseries/v/serialized/boundary_conditions as it contains functions. Will replace with missing. Function boundary conditions must be restored manually.\n",
            "└ @ Oceananigans.OutputWriters /root/.julia/packages/Oceananigans/JIHfS/src/OutputWriters/output_writer_utils.jl:70\n",
            "┌ Info: Initializing simulation...\n",
            "└ @ Oceananigans.Simulations /root/.julia/packages/Oceananigans/JIHfS/src/Simulations/run.jl:167\n",
            "┌ Info:     ... simulation initialization complete (12.754 seconds)\n",
            "└ @ Oceananigans.Simulations /root/.julia/packages/Oceananigans/JIHfS/src/Simulations/run.jl:202\n",
            "┌ Info: Executing initial time step...\n",
            "└ @ Oceananigans.Simulations /root/.julia/packages/Oceananigans/JIHfS/src/Simulations/run.jl:112\n"
          ]
        },
        {
          "output_type": "error",
          "ename": "LoadError",
          "evalue": "ignored",
          "traceback": [
            "InvalidIRError: compiling kernel gpu__apply_z_bcs!(Cassette.Context{nametype(CUDACtx), Nothing, Nothing, KernelAbstractions.var\"##PassType#257\", Nothing, Cassette.DisableHooks}, typeof(Oceananigans.BoundaryConditions.gpu__apply_z_bcs!), KernelAbstractions.CompilerMetadata{KernelAbstractions.NDIteration.StaticSize{(100, 100)}, KernelAbstractions.NDIteration.DynamicCheck, Nothing, Nothing, KernelAbstractions.NDIteration.NDRange{2, KernelAbstractions.NDIteration.StaticSize{(7, 7)}, KernelAbstractions.NDIteration.StaticSize{(16, 16)}, Nothing, Nothing}}, OffsetArrays.OffsetArray{Float64, 3, CuDeviceArray{Float64, 3, 1}}, Tuple{Face, Center, Center}, RectilinearGrid{Float64, Bounded, Bounded, Bounded, Float64, Float64, Float64, OffsetArrays.OffsetVector{Float64, StepRangeLen{Float64, Base.TwicePrecision{Float64}, Base.TwicePrecision{Float64}}}, OffsetArrays.OffsetVector{Float64, StepRangeLen{Float64, Base.TwicePrecision{Float64}, Base.TwicePrecision{Float64}}}, OffsetArrays.OffsetVector{Float64, StepRangeLen{Float64, Base.TwicePrecision{Float64}, Base.TwicePrecision{Float64}}}, Nothing}, BoundaryCondition{Oceananigans.BoundaryConditions.Flux, Nothing}, BoundaryCondition{Oceananigans.BoundaryConditions.Flux, Oceananigans.BoundaryConditions.ContinuousBoundaryFunction{Face, Center, Nothing, 20, typeof(Qᵘ), Nothing, Nothing, Tuple{}, Tuple{}}}, NamedTuple{(:time, :iteration, :stage), Tuple{Float64, Int64, Int64}}, NamedTuple{(:u, :v, :w, :T, :S), NTuple{5, OffsetArrays.OffsetArray{...\nReason: unsupported dynamic function invocation (call to Qᵘ)\nStacktrace:\n  [1] \u001b[0m\u001b[1mcall\u001b[22m\n\u001b[90m    @ \u001b[39m\u001b[90m~/.julia/packages/Cassette/34vIw/src/\u001b[39m\u001b[90;4mcontext.jl:456\u001b[0m\n  [2] \u001b[0m\u001b[1mfallback\u001b[22m\n\u001b[90m    @ \u001b[39m\u001b[90m~/.julia/packages/Cassette/34vIw/src/\u001b[39m\u001b[90;4mcontext.jl:454\u001b[0m\n  [3] \u001b[0m\u001b[1m_overdub_fallback(::Any, ::Vararg{Any, N} where N)\u001b[22m\n\u001b[90m    @ \u001b[39m\u001b[90m~/.julia/packages/Cassette/34vIw/src/\u001b[39m\u001b[90;4moverdub.jl:586\u001b[0m\n  [4] \u001b[0m\u001b[1moverdub\u001b[22m\n\u001b[90m    @ \u001b[39m\u001b[90m~/.julia/packages/Cassette/34vIw/src/\u001b[39m\u001b[90;4moverdub.jl:586\u001b[0m\n  [5] \u001b[0m\u001b[1moverdub\u001b[22m\n\u001b[90m    @ \u001b[39m\u001b[90m~/.julia/packages/Oceananigans/JIHfS/src/BoundaryConditions/\u001b[39m\u001b[90;4mcontinuous_boundary_function.jl:122\u001b[0m\n  [6] \u001b[0m\u001b[1mgetbc(::BoundaryCondition{Oceananigans.BoundaryConditions.Flux, Oceananigans.BoundaryConditions.ContinuousBoundaryFunction{Face, Center, Nothing, 20, typeof(Qᵘ), Nothing, Nothing, Tuple{}, Tuple{}}}, ::Int64, ::Int64, ::RectilinearGrid{Float64, Bounded, Bounded, Bounded, Float64, Float64, Float64, OffsetArrays.OffsetVector{Float64, StepRangeLen{Float64, Base.TwicePrecision{Float64}, Base.TwicePrecision{Float64}}}, OffsetArrays.OffsetVector{Float64, StepRangeLen{Float64, Base.TwicePrecision{Float64}, Base.TwicePrecision{Float64}}}, OffsetArrays.OffsetVector{Float64, StepRangeLen{Float64, Base.TwicePrecision{Float64}, Base.TwicePrecision{Float64}}}, Nothing}, ::NamedTuple{(:time, :iteration, :stage), Tuple{Float64, Int64, Int64}}, ::NamedTuple{(:u, :v, :w, :T, :S), NTuple{5, OffsetArrays.OffsetArray{Float64, 3, CuDeviceArray{Float64, 3, 1}}}})\u001b[22m\n\u001b[90m    @ \u001b[39m\u001b[90m~/.julia/packages/Oceananigans/JIHfS/src/BoundaryConditions/\u001b[39m\u001b[90;4mboundary_condition.jl:101\u001b[0m\n  [7] \u001b[0m\u001b[1moverdub\u001b[22m\n\u001b[90m    @ \u001b[39m\u001b[90m~/.julia/packages/Oceananigans/JIHfS/src/BoundaryConditions/\u001b[39m\u001b[90;4mboundary_condition.jl:101\u001b[0m\n  [8] \u001b[0m\u001b[1moverdub\u001b[22m\n\u001b[90m    @ \u001b[39m\u001b[90m~/.julia/packages/Oceananigans/JIHfS/src/BoundaryConditions/\u001b[39m\u001b[90;4mapply_flux_bcs.jl:158\u001b[0m\n  [9] \u001b[0m\u001b[1mmacro expansion\u001b[22m\n\u001b[90m    @ \u001b[39m\u001b[90m~/.julia/packages/Oceananigans/JIHfS/src/BoundaryConditions/\u001b[39m\u001b[90;4mapply_flux_bcs.jl:82\u001b[0m\n [10] \u001b[0m\u001b[1moverdub\u001b[22m\n\u001b[90m    @ \u001b[39m\u001b[90m~/.julia/packages/KernelAbstractions/3ZHln/src/\u001b[39m\u001b[90;4mmacros.jl:80\u001b[0m\n [11] \u001b[0m\u001b[1moverdub\u001b[22m\n\u001b[90m    @ \u001b[39m\u001b[90m~/.julia/packages/Cassette/34vIw/src/\u001b[39m\u001b[90;4moverdub.jl:0\u001b[0m",
            "",
            "Stacktrace:",
            "  [1] check_ir(job::GPUCompiler.CompilerJob{GPUCompiler.PTXCompilerTarget, CUDA.CUDACompilerParams, GPUCompiler.FunctionSpec{typeof(Cassette.overdub), Tuple{Cassette.Context{nametype(CUDACtx), Nothing, Nothing, KernelAbstractions.var\"##PassType#257\", Nothing, Cassette.DisableHooks}, typeof(Oceananigans.BoundaryConditions.gpu__apply_z_bcs!), KernelAbstractions.CompilerMetadata{KernelAbstractions.NDIteration.StaticSize{(100, 100)}, KernelAbstractions.NDIteration.DynamicCheck, Nothing, Nothing, KernelAbstractions.NDIteration.NDRange{2, KernelAbstractions.NDIteration.StaticSize{(7, 7)}, KernelAbstractions.NDIteration.StaticSize{(16, 16)}, Nothing, Nothing}}, OffsetArrays.OffsetArray{Float64, 3, CuDeviceArray{Float64, 3, 1}}, Tuple{Face, Center, Center}, RectilinearGrid{Float64, Bounded, Bounded, Bounded, Float64, Float64, Float64, OffsetArrays.OffsetVector{Float64, StepRangeLen{Float64, Base.TwicePrecision{Float64}, Base.TwicePrecision{Float64}}}, OffsetArrays.OffsetVector{Float64, StepRangeLen{Float64, Base.TwicePrecision{Float64}, Base.TwicePrecision{Float64}}}, OffsetArrays.OffsetVector{Float64, StepRangeLen{Float64, Base.TwicePrecision{Float64}, Base.TwicePrecision{Float64}}}, Nothing}, BoundaryCondition{Oceananigans.BoundaryConditions.Flux, Nothing}, BoundaryCondition{Oceananigans.BoundaryConditions.Flux, Oceananigans.BoundaryConditions.ContinuousBoundaryFunction{Face, Center, Nothing, 20, typeof(Qᵘ), Nothing, Nothing, Tuple{}, Tuple{}}}, NamedTuple{(:time, :iteration, :s...",
            "    @ GPUCompiler ~/.julia/packages/GPUCompiler/fG3xK/src/validation.jl:111",
            "  [2] macro expansion",
            "    @ ~/.julia/packages/GPUCompiler/fG3xK/src/driver.jl:319 [inlined]",
            "  [3] macro expansion",
            "    @ ~/.julia/packages/TimerOutputs/nDhDw/src/TimerOutput.jl:252 [inlined]",
            "  [4] macro expansion",
            "    @ ~/.julia/packages/GPUCompiler/fG3xK/src/driver.jl:317 [inlined]",
            "  [5] emit_asm(job::GPUCompiler.CompilerJob, ir::LLVM.Module; strip::Bool, validate::Bool, format::LLVM.API.LLVMCodeGenFileType)",
            "    @ GPUCompiler ~/.julia/packages/GPUCompiler/fG3xK/src/utils.jl:62",
            "  [6] cufunction_compile(job::GPUCompiler.CompilerJob)",
            "    @ CUDA ~/.julia/packages/CUDA/DL5Zo/src/compiler/execution.jl:317",
            "  [7] cached_compilation(cache::Dict{UInt64, Any}, job::GPUCompiler.CompilerJob, compiler::typeof(CUDA.cufunction_compile), linker::typeof(CUDA.cufunction_link))",
            "    @ GPUCompiler ~/.julia/packages/GPUCompiler/fG3xK/src/cache.jl:89",
            "  [8] cufunction(f::typeof(Cassette.overdub), tt::Type{Tuple{Cassette.Context{nametype(CUDACtx), Nothing, Nothing, KernelAbstractions.var\"##PassType#257\", Nothing, Cassette.DisableHooks}, typeof(Oceananigans.BoundaryConditions.gpu__apply_z_bcs!), KernelAbstractions.CompilerMetadata{KernelAbstractions.NDIteration.StaticSize{(100, 100)}, KernelAbstractions.NDIteration.DynamicCheck, Nothing, Nothing, KernelAbstractions.NDIteration.NDRange{2, KernelAbstractions.NDIteration.StaticSize{(7, 7)}, KernelAbstractions.NDIteration.StaticSize{(16, 16)}, Nothing, Nothing}}, OffsetArrays.OffsetArray{Float64, 3, CuDeviceArray{Float64, 3, 1}}, Tuple{Face, Center, Center}, RectilinearGrid{Float64, Bounded, Bounded, Bounded, Float64, Float64, Float64, OffsetArrays.OffsetVector{Float64, StepRangeLen{Float64, Base.TwicePrecision{Float64}, Base.TwicePrecision{Float64}}}, OffsetArrays.OffsetVector{Float64, StepRangeLen{Float64, Base.TwicePrecision{Float64}, Base.TwicePrecision{Float64}}}, OffsetArrays.OffsetVector{Float64, StepRangeLen{Float64, Base.TwicePrecision{Float64}, Base.TwicePrecision{Float64}}}, Nothing}, BoundaryCondition{Oceananigans.BoundaryConditions.Flux, Nothing}, BoundaryCondition{Oceananigans.BoundaryConditions.Flux, Oceananigans.BoundaryConditions.ContinuousBoundaryFunction{Face, Center, Nothing, 20, typeof(Qᵘ), Nothing, Nothing, Tuple{}, Tuple{}}}, NamedTuple{(:time, :iteration, :stage), Tuple{Float64, Int64, Int64}}, NamedTuple{(:u, :v, :w, :T, :S), NTuple{5, OffsetArrays.Of...",
            "    @ CUDA ~/.julia/packages/CUDA/DL5Zo/src/compiler/execution.jl:288",
            "  [9] macro expansion",
            "    @ ~/.julia/packages/CUDA/DL5Zo/src/compiler/execution.jl:102 [inlined]",
            " [10] (::KernelAbstractions.Kernel{CUDAKernels.CUDADevice, KernelAbstractions.NDIteration.StaticSize{(16, 16)}, KernelAbstractions.NDIteration.StaticSize{(100, 100)}, typeof(Oceananigans.BoundaryConditions.gpu__apply_z_bcs!)})(::Field{Face, Center, Center, Nothing, RectilinearGrid{Float64, Bounded, Bounded, Bounded, Float64, Float64, Float64, OffsetArrays.OffsetVector{Float64, StepRangeLen{Float64, Base.TwicePrecision{Float64}, Base.TwicePrecision{Float64}}}, OffsetArrays.OffsetVector{Float64, StepRangeLen{Float64, Base.TwicePrecision{Float64}, Base.TwicePrecision{Float64}}}, OffsetArrays.OffsetVector{Float64, StepRangeLen{Float64, Base.TwicePrecision{Float64}, Base.TwicePrecision{Float64}}}, GPU}, Tuple{Colon, Colon, Colon}, OffsetArrays.OffsetArray{Float64, 3, CuArray{Float64, 3}}, Float64, FieldBoundaryConditions{Nothing, Nothing, BoundaryCondition{Oceananigans.BoundaryConditions.Flux, Nothing}, BoundaryCondition{Oceananigans.BoundaryConditions.Flux, Nothing}, BoundaryCondition{Oceananigans.BoundaryConditions.Flux, Nothing}, BoundaryCondition{Oceananigans.BoundaryConditions.Flux, Nothing}, BoundaryCondition{Oceananigans.BoundaryConditions.Flux, Nothing}}, Nothing}, ::Vararg{Any, N} where N; ndrange::Nothing, dependencies::CUDAKernels.CudaEvent, workgroupsize::Nothing, progress::Function)",
            "    @ CUDAKernels ~/.julia/packages/CUDAKernels/dI2Fl/src/CUDAKernels.jl:194",
            " [11] launch!(::GPU, ::RectilinearGrid{Float64, Bounded, Bounded, Bounded, Float64, Float64, Float64, OffsetArrays.OffsetVector{Float64, StepRangeLen{Float64, Base.TwicePrecision{Float64}, Base.TwicePrecision{Float64}}}, OffsetArrays.OffsetVector{Float64, StepRangeLen{Float64, Base.TwicePrecision{Float64}, Base.TwicePrecision{Float64}}}, OffsetArrays.OffsetVector{Float64, StepRangeLen{Float64, Base.TwicePrecision{Float64}, Base.TwicePrecision{Float64}}}, GPU}, ::Symbol, ::typeof(Oceananigans.BoundaryConditions._apply_z_bcs!), ::Field{Face, Center, Center, Nothing, RectilinearGrid{Float64, Bounded, Bounded, Bounded, Float64, Float64, Float64, OffsetArrays.OffsetVector{Float64, StepRangeLen{Float64, Base.TwicePrecision{Float64}, Base.TwicePrecision{Float64}}}, OffsetArrays.OffsetVector{Float64, StepRangeLen{Float64, Base.TwicePrecision{Float64}, Base.TwicePrecision{Float64}}}, OffsetArrays.OffsetVector{Float64, StepRangeLen{Float64, Base.TwicePrecision{Float64}, Base.TwicePrecision{Float64}}}, GPU}, Tuple{Colon, Colon, Colon}, OffsetArrays.OffsetArray{Float64, 3, CuArray{Float64, 3}}, Float64, FieldBoundaryConditions{Nothing, Nothing, BoundaryCondition{Oceananigans.BoundaryConditions.Flux, Nothing}, BoundaryCondition{Oceananigans.BoundaryConditions.Flux, Nothing}, BoundaryCondition{Oceananigans.BoundaryConditions.Flux, Nothing}, BoundaryCondition{Oceananigans.BoundaryConditions.Flux, Nothing}, BoundaryCondition{Oceananigans.BoundaryConditions.Flux, Nothing}}, Nothing}, ::Var...",
            "    @ Oceananigans.Utils ~/.julia/packages/Oceananigans/JIHfS/src/Utils/kernel_launching.jl:95",
            " [12] apply_z_bcs!",
            "    @ ~/.julia/packages/Oceananigans/JIHfS/src/BoundaryConditions/apply_flux_bcs.jl:49 [inlined]",
            " [13] apply_z_bcs!(::Field{Face, Center, Center, Nothing, RectilinearGrid{Float64, Bounded, Bounded, Bounded, Float64, Float64, Float64, OffsetArrays.OffsetVector{Float64, StepRangeLen{Float64, Base.TwicePrecision{Float64}, Base.TwicePrecision{Float64}}}, OffsetArrays.OffsetVector{Float64, StepRangeLen{Float64, Base.TwicePrecision{Float64}, Base.TwicePrecision{Float64}}}, OffsetArrays.OffsetVector{Float64, StepRangeLen{Float64, Base.TwicePrecision{Float64}, Base.TwicePrecision{Float64}}}, GPU}, Tuple{Colon, Colon, Colon}, OffsetArrays.OffsetArray{Float64, 3, CuArray{Float64, 3}}, Float64, FieldBoundaryConditions{Nothing, Nothing, BoundaryCondition{Oceananigans.BoundaryConditions.Flux, Nothing}, BoundaryCondition{Oceananigans.BoundaryConditions.Flux, Nothing}, BoundaryCondition{Oceananigans.BoundaryConditions.Flux, Nothing}, BoundaryCondition{Oceananigans.BoundaryConditions.Flux, Nothing}, BoundaryCondition{Oceananigans.BoundaryConditions.Flux, Nothing}}, Nothing}, ::Field{Face, Center, Center, Nothing, RectilinearGrid{Float64, Bounded, Bounded, Bounded, Float64, Float64, Float64, OffsetArrays.OffsetVector{Float64, StepRangeLen{Float64, Base.TwicePrecision{Float64}, Base.TwicePrecision{Float64}}}, OffsetArrays.OffsetVector{Float64, StepRangeLen{Float64, Base.TwicePrecision{Float64}, Base.TwicePrecision{Float64}}}, OffsetArrays.OffsetVector{Float64, StepRangeLen{Float64, Base.TwicePrecision{Float64}, Base.TwicePrecision{Float64}}}, GPU}, Tuple{Colon, Colon, Colon}, OffsetArr...",
            "    @ Oceananigans.BoundaryConditions ~/.julia/packages/Oceananigans/JIHfS/src/BoundaryConditions/apply_flux_bcs.jl:14",
            " [14] (::Oceananigans.Models.NonhydrostaticModels.var\"#8#11\"{NamedTuple{(:u, :v, :w, :T, :S), Tuple{Field{Face, Center, Center, Nothing, RectilinearGrid{Float64, Bounded, Bounded, Bounded, Float64, Float64, Float64, OffsetArrays.OffsetVector{Float64, StepRangeLen{Float64, Base.TwicePrecision{Float64}, Base.TwicePrecision{Float64}}}, OffsetArrays.OffsetVector{Float64, StepRangeLen{Float64, Base.TwicePrecision{Float64}, Base.TwicePrecision{Float64}}}, OffsetArrays.OffsetVector{Float64, StepRangeLen{Float64, Base.TwicePrecision{Float64}, Base.TwicePrecision{Float64}}}, GPU}, Tuple{Colon, Colon, Colon}, OffsetArrays.OffsetArray{Float64, 3, CuArray{Float64, 3}}, Float64, FieldBoundaryConditions{Nothing, Nothing, BoundaryCondition{Oceananigans.BoundaryConditions.Flux, Nothing}, BoundaryCondition{Oceananigans.BoundaryConditions.Flux, Nothing}, BoundaryCondition{Oceananigans.BoundaryConditions.Flux, Nothing}, BoundaryCondition{Oceananigans.BoundaryConditions.Flux, Nothing}, BoundaryCondition{Oceananigans.BoundaryConditions.Flux, Nothing}}, Nothing}, Field{Center, Face, Center, Nothing, RectilinearGrid{Float64, Bounded, Bounded, Bounded, Float64, Float64, Float64, OffsetArrays.OffsetVector{Float64, StepRangeLen{Float64, Base.TwicePrecision{Float64}, Base.TwicePrecision{Float64}}}, OffsetArrays.OffsetVector{Float64, StepRangeLen{Float64, Base.TwicePrecision{Float64}, Base.TwicePrecision{Float64}}}, OffsetArrays.OffsetVector{Float64, StepRangeLen{Float64, Base.TwicePrecision{Float64}...",
            "    @ Oceananigans.Models.NonhydrostaticModels ./none:0",
            " [15] iterate",
            "    @ ./generator.jl:47 [inlined]",
            " [16] collect(itr::Base.Generator{UnitRange{Int64}, Oceananigans.Models.NonhydrostaticModels.var\"#8#11\"{NamedTuple{(:u, :v, :w, :T, :S), Tuple{Field{Face, Center, Center, Nothing, RectilinearGrid{Float64, Bounded, Bounded, Bounded, Float64, Float64, Float64, OffsetArrays.OffsetVector{Float64, StepRangeLen{Float64, Base.TwicePrecision{Float64}, Base.TwicePrecision{Float64}}}, OffsetArrays.OffsetVector{Float64, StepRangeLen{Float64, Base.TwicePrecision{Float64}, Base.TwicePrecision{Float64}}}, OffsetArrays.OffsetVector{Float64, StepRangeLen{Float64, Base.TwicePrecision{Float64}, Base.TwicePrecision{Float64}}}, GPU}, Tuple{Colon, Colon, Colon}, OffsetArrays.OffsetArray{Float64, 3, CuArray{Float64, 3}}, Float64, FieldBoundaryConditions{Nothing, Nothing, BoundaryCondition{Oceananigans.BoundaryConditions.Flux, Nothing}, BoundaryCondition{Oceananigans.BoundaryConditions.Flux, Nothing}, BoundaryCondition{Oceananigans.BoundaryConditions.Flux, Nothing}, BoundaryCondition{Oceananigans.BoundaryConditions.Flux, Nothing}, BoundaryCondition{Oceananigans.BoundaryConditions.Flux, Nothing}}, Nothing}, Field{Center, Face, Center, Nothing, RectilinearGrid{Float64, Bounded, Bounded, Bounded, Float64, Float64, Float64, OffsetArrays.OffsetVector{Float64, StepRangeLen{Float64, Base.TwicePrecision{Float64}, Base.TwicePrecision{Float64}}}, OffsetArrays.OffsetVector{Float64, StepRangeLen{Float64, Base.TwicePrecision{Float64}, Base.TwicePrecision{Float64}}}, OffsetArrays.OffsetVector{Float64, StepRan...",
            "    @ Base ./array.jl:681",
            " [17] _totuple",
            "    @ ./tuple.jl:331 [inlined]",
            " [18] Tuple",
            "    @ ./tuple.jl:303 [inlined]",
            " [19] calculate_boundary_tendency_contributions!(Gⁿ::NamedTuple{(:u, :v, :w, :T, :S), Tuple{Field{Face, Center, Center, Nothing, RectilinearGrid{Float64, Bounded, Bounded, Bounded, Float64, Float64, Float64, OffsetArrays.OffsetVector{Float64, StepRangeLen{Float64, Base.TwicePrecision{Float64}, Base.TwicePrecision{Float64}}}, OffsetArrays.OffsetVector{Float64, StepRangeLen{Float64, Base.TwicePrecision{Float64}, Base.TwicePrecision{Float64}}}, OffsetArrays.OffsetVector{Float64, StepRangeLen{Float64, Base.TwicePrecision{Float64}, Base.TwicePrecision{Float64}}}, GPU}, Tuple{Colon, Colon, Colon}, OffsetArrays.OffsetArray{Float64, 3, CuArray{Float64, 3}}, Float64, FieldBoundaryConditions{Nothing, Nothing, BoundaryCondition{Oceananigans.BoundaryConditions.Flux, Nothing}, BoundaryCondition{Oceananigans.BoundaryConditions.Flux, Nothing}, BoundaryCondition{Oceananigans.BoundaryConditions.Flux, Nothing}, BoundaryCondition{Oceananigans.BoundaryConditions.Flux, Nothing}, BoundaryCondition{Oceananigans.BoundaryConditions.Flux, Nothing}}, Nothing}, Field{Center, Face, Center, Nothing, RectilinearGrid{Float64, Bounded, Bounded, Bounded, Float64, Float64, Float64, OffsetArrays.OffsetVector{Float64, StepRangeLen{Float64, Base.TwicePrecision{Float64}, Base.TwicePrecision{Float64}}}, OffsetArrays.OffsetVector{Float64, StepRangeLen{Float64, Base.TwicePrecision{Float64}, Base.TwicePrecision{Float64}}}, OffsetArrays.OffsetVector{Float64, StepRangeLen{Float64, Base.TwicePrecision{Float64}, Base.T...",
            "    @ Oceananigans.Models.NonhydrostaticModels ~/.julia/packages/Oceananigans/JIHfS/src/Models/NonhydrostaticModels/calculate_nonhydrostatic_tendencies.jl:153",
            " [20] calculate_tendencies!",
            "    @ ~/.julia/packages/Oceananigans/JIHfS/src/Models/NonhydrostaticModels/calculate_nonhydrostatic_tendencies.jl:42 [inlined]",
            " [21] time_step!(model::NonhydrostaticModel{Oceananigans.TimeSteppers.QuasiAdamsBashforth2TimeStepper{Float64, NamedTuple{(:u, :v, :w, :T, :S), Tuple{Field{Face, Center, Center, Nothing, RectilinearGrid{Float64, Bounded, Bounded, Bounded, Float64, Float64, Float64, OffsetArrays.OffsetVector{Float64, StepRangeLen{Float64, Base.TwicePrecision{Float64}, Base.TwicePrecision{Float64}}}, OffsetArrays.OffsetVector{Float64, StepRangeLen{Float64, Base.TwicePrecision{Float64}, Base.TwicePrecision{Float64}}}, OffsetArrays.OffsetVector{Float64, StepRangeLen{Float64, Base.TwicePrecision{Float64}, Base.TwicePrecision{Float64}}}, GPU}, Tuple{Colon, Colon, Colon}, OffsetArrays.OffsetArray{Float64, 3, CuArray{Float64, 3}}, Float64, FieldBoundaryConditions{Nothing, Nothing, BoundaryCondition{Oceananigans.BoundaryConditions.Flux, Nothing}, BoundaryCondition{Oceananigans.BoundaryConditions.Flux, Nothing}, BoundaryCondition{Oceananigans.BoundaryConditions.Flux, Nothing}, BoundaryCondition{Oceananigans.BoundaryConditions.Flux, Nothing}, BoundaryCondition{Oceananigans.BoundaryConditions.Flux, Nothing}}, Nothing}, Field{Center, Face, Center, Nothing, RectilinearGrid{Float64, Bounded, Bounded, Bounded, Float64, Float64, Float64, OffsetArrays.OffsetVector{Float64, StepRangeLen{Float64, Base.TwicePrecision{Float64}, Base.TwicePrecision{Float64}}}, OffsetArrays.OffsetVector{Float64, StepRangeLen{Float64, Base.TwicePrecision{Float64}, Base.TwicePrecision{Float64}}}, OffsetArrays.OffsetVector{Float64, ...",
            "    @ Oceananigans.TimeSteppers ~/.julia/packages/Oceananigans/JIHfS/src/TimeSteppers/quasi_adams_bashforth_2.jl:91",
            " [22] time_step!",
            "    @ ~/.julia/packages/Oceananigans/JIHfS/src/TimeSteppers/quasi_adams_bashforth_2.jl:70 [inlined]",
            " [23] time_step!(sim::Simulation{NonhydrostaticModel{Oceananigans.TimeSteppers.QuasiAdamsBashforth2TimeStepper{Float64, NamedTuple{(:u, :v, :w, :T, :S), Tuple{Field{Face, Center, Center, Nothing, RectilinearGrid{Float64, Bounded, Bounded, Bounded, Float64, Float64, Float64, OffsetArrays.OffsetVector{Float64, StepRangeLen{Float64, Base.TwicePrecision{Float64}, Base.TwicePrecision{Float64}}}, OffsetArrays.OffsetVector{Float64, StepRangeLen{Float64, Base.TwicePrecision{Float64}, Base.TwicePrecision{Float64}}}, OffsetArrays.OffsetVector{Float64, StepRangeLen{Float64, Base.TwicePrecision{Float64}, Base.TwicePrecision{Float64}}}, GPU}, Tuple{Colon, Colon, Colon}, OffsetArrays.OffsetArray{Float64, 3, CuArray{Float64, 3}}, Float64, FieldBoundaryConditions{Nothing, Nothing, BoundaryCondition{Oceananigans.BoundaryConditions.Flux, Nothing}, BoundaryCondition{Oceananigans.BoundaryConditions.Flux, Nothing}, BoundaryCondition{Oceananigans.BoundaryConditions.Flux, Nothing}, BoundaryCondition{Oceananigans.BoundaryConditions.Flux, Nothing}, BoundaryCondition{Oceananigans.BoundaryConditions.Flux, Nothing}}, Nothing}, Field{Center, Face, Center, Nothing, RectilinearGrid{Float64, Bounded, Bounded, Bounded, Float64, Float64, Float64, OffsetArrays.OffsetVector{Float64, StepRangeLen{Float64, Base.TwicePrecision{Float64}, Base.TwicePrecision{Float64}}}, OffsetArrays.OffsetVector{Float64, StepRangeLen{Float64, Base.TwicePrecision{Float64}, Base.TwicePrecision{Float64}}}, OffsetArrays.OffsetVector{...",
            "    @ Oceananigans.Simulations ~/.julia/packages/Oceananigans/JIHfS/src/Simulations/run.jl:116",
            " [24] run!(sim::Simulation{NonhydrostaticModel{Oceananigans.TimeSteppers.QuasiAdamsBashforth2TimeStepper{Float64, NamedTuple{(:u, :v, :w, :T, :S), Tuple{Field{Face, Center, Center, Nothing, RectilinearGrid{Float64, Bounded, Bounded, Bounded, Float64, Float64, Float64, OffsetArrays.OffsetVector{Float64, StepRangeLen{Float64, Base.TwicePrecision{Float64}, Base.TwicePrecision{Float64}}}, OffsetArrays.OffsetVector{Float64, StepRangeLen{Float64, Base.TwicePrecision{Float64}, Base.TwicePrecision{Float64}}}, OffsetArrays.OffsetVector{Float64, StepRangeLen{Float64, Base.TwicePrecision{Float64}, Base.TwicePrecision{Float64}}}, GPU}, Tuple{Colon, Colon, Colon}, OffsetArrays.OffsetArray{Float64, 3, CuArray{Float64, 3}}, Float64, FieldBoundaryConditions{Nothing, Nothing, BoundaryCondition{Oceananigans.BoundaryConditions.Flux, Nothing}, BoundaryCondition{Oceananigans.BoundaryConditions.Flux, Nothing}, BoundaryCondition{Oceananigans.BoundaryConditions.Flux, Nothing}, BoundaryCondition{Oceananigans.BoundaryConditions.Flux, Nothing}, BoundaryCondition{Oceananigans.BoundaryConditions.Flux, Nothing}}, Nothing}, Field{Center, Face, Center, Nothing, RectilinearGrid{Float64, Bounded, Bounded, Bounded, Float64, Float64, Float64, OffsetArrays.OffsetVector{Float64, StepRangeLen{Float64, Base.TwicePrecision{Float64}, Base.TwicePrecision{Float64}}}, OffsetArrays.OffsetVector{Float64, StepRangeLen{Float64, Base.TwicePrecision{Float64}, Base.TwicePrecision{Float64}}}, OffsetArrays.OffsetVector{Float6...",
            "    @ Oceananigans.Simulations ~/.julia/packages/Oceananigans/JIHfS/src/Simulations/run.jl:97",
            " [25] run!(sim::Simulation{NonhydrostaticModel{Oceananigans.TimeSteppers.QuasiAdamsBashforth2TimeStepper{Float64, NamedTuple{(:u, :v, :w, :T, :S), Tuple{Field{Face, Center, Center, Nothing, RectilinearGrid{Float64, Bounded, Bounded, Bounded, Float64, Float64, Float64, OffsetArrays.OffsetVector{Float64, StepRangeLen{Float64, Base.TwicePrecision{Float64}, Base.TwicePrecision{Float64}}}, OffsetArrays.OffsetVector{Float64, StepRangeLen{Float64, Base.TwicePrecision{Float64}, Base.TwicePrecision{Float64}}}, OffsetArrays.OffsetVector{Float64, StepRangeLen{Float64, Base.TwicePrecision{Float64}, Base.TwicePrecision{Float64}}}, GPU}, Tuple{Colon, Colon, Colon}, OffsetArrays.OffsetArray{Float64, 3, CuArray{Float64, 3}}, Float64, FieldBoundaryConditions{Nothing, Nothing, BoundaryCondition{Oceananigans.BoundaryConditions.Flux, Nothing}, BoundaryCondition{Oceananigans.BoundaryConditions.Flux, Nothing}, BoundaryCondition{Oceananigans.BoundaryConditions.Flux, Nothing}, BoundaryCondition{Oceananigans.BoundaryConditions.Flux, Nothing}, BoundaryCondition{Oceananigans.BoundaryConditions.Flux, Nothing}}, Nothing}, Field{Center, Face, Center, Nothing, RectilinearGrid{Float64, Bounded, Bounded, Bounded, Float64, Float64, Float64, OffsetArrays.OffsetVector{Float64, StepRangeLen{Float64, Base.TwicePrecision{Float64}, Base.TwicePrecision{Float64}}}, OffsetArrays.OffsetVector{Float64, StepRangeLen{Float64, Base.TwicePrecision{Float64}, Base.TwicePrecision{Float64}}}, OffsetArrays.OffsetVector{Float6...",
            "    @ Oceananigans.Simulations ~/.julia/packages/Oceananigans/JIHfS/src/Simulations/run.jl:88",
            " [26] top-level scope",
            "    @ In[12]:7",
            " [27] eval",
            "    @ ./boot.jl:360 [inlined]",
            " [28] include_string(mapexpr::typeof(REPL.softscope), mod::Module, code::String, filename::String)",
            "    @ Base ./loading.jl:1116"
          ]
        }
      ]
    },
    {
      "cell_type": "code",
      "source": [
        ""
      ],
      "metadata": {
        "id": "me_xN07xhtoT"
      },
      "execution_count": null,
      "outputs": []
    },
    {
      "cell_type": "code",
      "source": [
        "u = FieldTimeSeries(\"../data/OceanGyreTank.jld2\", \"u\")\n",
        "v = FieldTimeSeries(\"../data/OceanGyreTank.jld2\", \"v\")\n",
        "\n",
        "xu,yu,zu = nodes(u)\n",
        "xv,yv,zv = nodes(v)\n",
        "\n",
        "\n",
        "anim = @animate for (i, t) in enumerate(u.times)\n",
        "    p1 = contour(xu,yu,u[:,:,1,i]'.*1e3; xlabel=\"x [m]\", ylabel=\"y [m]\", clim = (-0.25,0.25), fill=true, linewidth=0.2)\n",
        "    p2 = contour(xv,yv,v[:,:,1,i]'.*1e3; xlabel=\"x [m]\", ylabel=\"y [m]\", clim = (-0.25,0.25), fill=true, linewidth=0.2)\n",
        "    plot(p1,p2)\n",
        "end\n",
        "\n",
        "gif(anim, \"../img/animation.gif\", fps = 10)"
      ],
      "metadata": {
        "id": "ciqSnjNJhEmf"
      },
      "execution_count": null,
      "outputs": []
    }
  ]
}